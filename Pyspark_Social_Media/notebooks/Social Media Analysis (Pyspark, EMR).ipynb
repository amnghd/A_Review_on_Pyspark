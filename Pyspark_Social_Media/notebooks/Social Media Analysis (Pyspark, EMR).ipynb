{
 "cells": [
  {
   "cell_type": "markdown",
   "metadata": {},
   "source": [
    "# Social Media Analytics:\n",
    "    \n",
    "In this notebook, we are interested in performing analytics on social media data using Pyspark. I got the data from [here](https://www.udemy.com/taming-big-data-with-apache-spark-hands-on/learn/v4/t/lecture/3710452?start=0)."
   ]
  },
  {
   "cell_type": "markdown",
   "metadata": {},
   "source": [
    "#### Problem 1:\n",
    "We would like to see which age groups have the highest number of frields?\n",
    "This concept is related to key-value pair management in spark."
   ]
  },
  {
   "cell_type": "code",
   "execution_count": 11,
   "metadata": {},
   "outputs": [
    {
     "name": "stdout",
     "output_type": "stream",
     "text": [
      "Overwriting codes/average_frieds_age.py\n"
     ]
    }
   ],
   "source": [
    "%%file codes/average_frieds_age.py\n",
    "\n",
    "def parser(line):\n",
    "    data = line.strip().split(',')\n",
    "    age = int(data[2])\n",
    "    num_friends = int(data[3])\n",
    "    return (age, num_friends)\n",
    "    \n",
    "\n",
    "\n",
    "import findspark\n",
    "findspark.init()\n",
    "from pyspark import SparkContext, SparkConf  # for configuring and conneting to db\n",
    "conf = SparkConf().setMaster('local').setAppName('average friends')  # configuration\n",
    "sc = SparkContext(conf = conf)  # connection to spark\n",
    "line = sc.textFile('file:///Users/Amin/Dropbox/Career Deveoment/Data Science/PySpark/Pyspark_Social_Media/data/raw/fakefriends.csv')\n",
    "line_parser = line.map(parser)  # refer to parser function above\n",
    "friends_counter = line_parser.mapValues(lambda x: (x,1))\n",
    "# up untill now no calculation is performed\n",
    "# the following line is an action which makes an acyclic graphs to run/optimize the code\n",
    "total_friends = friends_counter.reduceByKey(lambda x, y: (x[0] + y[0], x[1] + y[1])) # returning a tuple (important)\n",
    "final_results = total_friends.mapValues(lambda x: round(x[0] / x[1], 2)) # average calculation\n",
    "results = final_results.collect() # getting the results into a list\n",
    "sorted_results = sorted(results, reverse=True, key = lambda x : x[1])[:10] # top 10 age group with highet number of friends\n",
    "for result in sorted_results:\n",
    "    print(result)"
   ]
  },
  {
   "cell_type": "code",
   "execution_count": 12,
   "metadata": {},
   "outputs": [
    {
     "name": "stdout",
     "output_type": "stream",
     "text": [
      "(63, 384.0)\n",
      "(21, 350.88)\n",
      "(18, 343.38)\n",
      "(52, 340.64)\n",
      "(33, 325.33)\n",
      "(45, 309.54)\n",
      "(56, 306.67)\n",
      "(42, 303.5)\n",
      "(51, 302.14)\n",
      "(65, 298.2)\n",
      "SUCCESS: The process with PID 5920 (child process of PID 20976) has been terminated.\n",
      "SUCCESS: The process with PID 20976 (child process of PID 17392) has been terminated.\n",
      "SUCCESS: The process with PID 17392 (child process of PID 3312) has been terminated.\n"
     ]
    },
    {
     "name": "stderr",
     "output_type": "stream",
     "text": [
      "19/03/10 16:48:07 WARN NativeCodeLoader: Unable to load native-hadoop library for your platform... using builtin-java classes where applicable\n",
      "Setting default log level to \"WARN\".\n",
      "To adjust logging level use sc.setLogLevel(newLevel). For SparkR, use setLogLevel(newLevel).\n",
      "\n",
      "[Stage 0:>                                                          (0 + 1) / 1]\n",
      "[Stage 1:>                                                          (0 + 1) / 1]\n",
      "                                                                                \n"
     ]
    }
   ],
   "source": [
    "! python codes/average_frieds_age.py"
   ]
  },
  {
   "cell_type": "markdown",
   "metadata": {},
   "source": [
    "#### Problem 2:\n",
    "Who is the most popular comic book character in the Marvel world. \n",
    "We are loading a data set has the coappearance of all of the Mavel characters.\n",
    "We have two data files:\n",
    "\n",
    "``hero_graph`` has all the co-apprarances of specific hero with other heros.\n",
    "\n",
    "``hero_table`` that is a look up table of hero_id and hero name which we need to broadcast to allt eh nodes."
   ]
  },
  {
   "cell_type": "code",
   "execution_count": 29,
   "metadata": {},
   "outputs": [
    {
     "name": "stdout",
     "output_type": "stream",
     "text": [
      "Superhero:\t\t#coappearance\n",
      "CAPTAIN AMERICA:\t\t 1933\n",
      "SPIDER-MAN/PETER PAR:\t\t 1741\n",
      "IRON MAN/TONY STARK :\t\t 1528\n",
      "THING/BENJAMIN J. GR:\t\t 1426\n",
      "WOLVERINE/LOGAN :\t\t 1394\n",
      "MR. FANTASTIC/REED R:\t\t 1386\n",
      "HUMAN TORCH/JOHNNY S:\t\t 1371\n",
      "SCARLET WITCH/WANDA :\t\t 1345\n",
      "THOR/DR. DONALD BLAK:\t\t 1289\n",
      "BEAST/HENRY &HANK& P:\t\t 1280\n"
     ]
    }
   ],
   "source": [
    "try:\n",
    "    sc.stop() # stop any available sparkcontext (if exists)\n",
    "except:\n",
    "    pass # if the context doesnt exist ignore\n",
    "\n",
    "# develop a look up table of heros. {hero_id:hero_name}\n",
    "import os\n",
    "hero_name_file = os.path.join(os.getcwd() + r'\\..' + r'\\data\\raw\\Marvel-Names.txt')\n",
    "def look_up_table():\n",
    "    with open(hero_name_file) as f:\n",
    "        hero_dict = {}\n",
    "        for line in f:\n",
    "            hero_id, *hero_name = line.strip().split(' ') # hero name field also has whitespace\n",
    "            hero_name = \" \".join(hero_name)[1:-1]  # bringing it back to correct format\n",
    "            hero_dict[hero_id] = hero_name\n",
    "    return hero_dict\n",
    "hero_lut = look_up_table()\n",
    "\n",
    "def parser(line):\n",
    "    hero, *friends = line.strip().split(' ')\n",
    "    return (hero, len(friends)) # returns hero id and number of frieds\n",
    "    \n",
    "\n",
    "# find and import pyspark\n",
    "import findspark\n",
    "findspark.init()\n",
    "from pyspark import SparkConf, SparkContext\n",
    "# get connected to pyspark context\n",
    "conf = SparkConf().setMaster('local[*]').setAppName('popular hero')\n",
    "sc = SparkContext(conf = conf)\n",
    "# import and parse the data into correct format\n",
    "hero_graph = sc.textFile(os.path.join(os.getcwd() + r'\\..' + r'\\data\\raw\\Marvel-Graph.txt'))\n",
    "hero_friends = hero_graph.map(parser)\n",
    "# broadcast the look up table\n",
    "broadcast_lut = sc.broadcast(hero_lut)\n",
    "# perform the reduction and sort \n",
    "hero_total_friends = hero_friends.reduceByKey(lambda x,y: (x + y)).\\\n",
    "map(lambda x :(broadcast_lut.value[x[0]], x[1])).sortBy(lambda x:x[1], ascending = False)\n",
    "# collect the data\n",
    "results = hero_total_friends.take(10)\n",
    "# print the data\n",
    "print('Superhero:\\t\\t#coappearance')\n",
    "for res in results:\n",
    "    print(res[0] + ':\\t\\t', res[1])\n",
    "# stop the spark context\n",
    "sc.stop()"
   ]
  },
  {
   "cell_type": "code",
   "execution_count": 23,
   "metadata": {},
   "outputs": [],
   "source": []
  },
  {
   "cell_type": "code",
   "execution_count": null,
   "metadata": {},
   "outputs": [],
   "source": []
  }
 ],
 "metadata": {
  "kernelspec": {
   "display_name": "Python 3",
   "language": "python",
   "name": "python3"
  },
  "language_info": {
   "codemirror_mode": {
    "name": "ipython",
    "version": 3
   },
   "file_extension": ".py",
   "mimetype": "text/x-python",
   "name": "python",
   "nbconvert_exporter": "python",
   "pygments_lexer": "ipython3",
   "version": "3.6.4"
  }
 },
 "nbformat": 4,
 "nbformat_minor": 2
}
